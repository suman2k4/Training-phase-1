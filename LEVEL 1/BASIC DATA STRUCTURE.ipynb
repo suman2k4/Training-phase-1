{
 "cells": [
  {
   "cell_type": "code",
   "execution_count": 3,
   "metadata": {},
   "outputs": [],
   "source": [
    "my_list=[1,2,3]\n",
    "\n",
    "my_set={2,4,6}\n",
    "\n",
    "my_tuple=(1,3,5)\n",
    "\n",
    "my_dictionary={\"a\":1,\"b\":2}"
   ]
  },
  {
   "cell_type": "code",
   "execution_count": 4,
   "metadata": {},
   "outputs": [],
   "source": [
    "my_list.append(4)\n",
    "\n",
    "my_dictionary[\"c\"]=3"
   ]
  },
  {
   "cell_type": "code",
   "execution_count": 5,
   "metadata": {},
   "outputs": [
    {
     "name": "stdout",
     "output_type": "stream",
     "text": [
      "My list: [1, 2, 3, 4]\n",
      "My tuple: (1, 3, 5)\n",
      "My set: {2, 4, 6}\n",
      "My dictionary: {'a': 1, 'b': 2, 'c': 3}\n"
     ]
    }
   ],
   "source": [
    "print(\"My list:\",my_list)\n",
    "print(\"My tuple:\",my_tuple)\n",
    "print(\"My set:\",my_set)\n",
    "print(\"My dictionary:\",my_dictionary)\n"
   ]
  }
 ],
 "metadata": {
  "kernelspec": {
   "display_name": "Python 3",
   "language": "python",
   "name": "python3"
  },
  "language_info": {
   "codemirror_mode": {
    "name": "ipython",
    "version": 3
   },
   "file_extension": ".py",
   "mimetype": "text/x-python",
   "name": "python",
   "nbconvert_exporter": "python",
   "pygments_lexer": "ipython3",
   "version": "3.12.5"
  }
 },
 "nbformat": 4,
 "nbformat_minor": 2
}
