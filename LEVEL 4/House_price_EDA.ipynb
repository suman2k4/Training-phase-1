{
 "cells": [
  {
   "cell_type": "code",
   "execution_count": 1,
   "metadata": {},
   "outputs": [],
   "source": [
    "import pandas as pd\n"
   ]
  },
  {
   "cell_type": "code",
   "execution_count": 2,
   "metadata": {},
   "outputs": [],
   "source": [
    "df=pd.read_csv(\"housing_price_dataset.csv\")"
   ]
  },
  {
   "cell_type": "code",
   "execution_count": 3,
   "metadata": {},
   "outputs": [],
   "source": [
    "statistics=df.describe(include='all')"
   ]
  },
  {
   "cell_type": "code",
   "execution_count": 4,
   "metadata": {},
   "outputs": [
    {
     "name": "stdout",
     "output_type": "stream",
     "text": [
      "          SquareFeet      Bedrooms     Bathrooms Neighborhood     YearBuilt  \\\n",
      "count   50000.000000  50000.000000  50000.000000        50000  50000.000000   \n",
      "unique           NaN           NaN           NaN            3           NaN   \n",
      "top              NaN           NaN           NaN       Suburb           NaN   \n",
      "freq             NaN           NaN           NaN        16721           NaN   \n",
      "mean     2006.374680      3.498700      1.995420          NaN   1985.404420   \n",
      "std       575.513241      1.116326      0.815851          NaN     20.719377   \n",
      "min      1000.000000      2.000000      1.000000          NaN   1950.000000   \n",
      "25%      1513.000000      3.000000      1.000000          NaN   1967.000000   \n",
      "50%      2007.000000      3.000000      2.000000          NaN   1985.000000   \n",
      "75%      2506.000000      4.000000      3.000000          NaN   2003.000000   \n",
      "max      2999.000000      5.000000      3.000000          NaN   2021.000000   \n",
      "\n",
      "                Price  \n",
      "count    50000.000000  \n",
      "unique            NaN  \n",
      "top               NaN  \n",
      "freq              NaN  \n",
      "mean    224827.325151  \n",
      "std      76141.842966  \n",
      "min     -36588.165397  \n",
      "25%     169955.860225  \n",
      "50%     225052.141166  \n",
      "75%     279373.630052  \n",
      "max     492195.259972  \n"
     ]
    }
   ],
   "source": [
    "print(statistics)"
   ]
  }
 ],
 "metadata": {
  "kernelspec": {
   "display_name": "Python 3",
   "language": "python",
   "name": "python3"
  },
  "language_info": {
   "codemirror_mode": {
    "name": "ipython",
    "version": 3
   },
   "file_extension": ".py",
   "mimetype": "text/x-python",
   "name": "python",
   "nbconvert_exporter": "python",
   "pygments_lexer": "ipython3",
   "version": "3.12.5"
  }
 },
 "nbformat": 4,
 "nbformat_minor": 2
}
