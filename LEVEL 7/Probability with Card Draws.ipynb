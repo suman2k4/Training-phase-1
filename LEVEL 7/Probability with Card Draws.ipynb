{
 "cells": [
  {
   "cell_type": "code",
   "execution_count": 2,
   "metadata": {},
   "outputs": [],
   "source": [
    "P_Queen = 4 / 52\n",
    "P_Heart = 13 / 52\n",
    "P_Queen_and_Heart = 1 / 52\n",
    "\n"
   ]
  },
  {
   "cell_type": "code",
   "execution_count": 3,
   "metadata": {},
   "outputs": [],
   "source": [
    "\n",
    "P_Queen_or_Heart = P_Queen + P_Heart - P_Queen_and_Heart\n"
   ]
  },
  {
   "cell_type": "code",
   "execution_count": 4,
   "metadata": {},
   "outputs": [
    {
     "name": "stdout",
     "output_type": "stream",
     "text": [
      "P(Queen or Heart) = 0.3077 ≈ 30.77%, accounting for overlap.\n"
     ]
    }
   ],
   "source": [
    "\n",
    "print(f\"P(Queen or Heart) = {P_Queen_or_Heart:.4f} ≈ {P_Queen_or_Heart:.2%}, accounting for overlap.\")"
   ]
  }
 ],
 "metadata": {
  "kernelspec": {
   "display_name": "Python 3",
   "language": "python",
   "name": "python3"
  },
  "language_info": {
   "codemirror_mode": {
    "name": "ipython",
    "version": 3
   },
   "file_extension": ".py",
   "mimetype": "text/x-python",
   "name": "python",
   "nbconvert_exporter": "python",
   "pygments_lexer": "ipython3",
   "version": "3.12.5"
  }
 },
 "nbformat": 4,
 "nbformat_minor": 2
}
