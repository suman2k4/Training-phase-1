{
 "cells": [
  {
   "cell_type": "code",
   "execution_count": 1,
   "id": "161d03b8",
   "metadata": {},
   "outputs": [],
   "source": [
    "from zenml import step, pipeline\n",
    "from sklearn.datasets import load_diabetes\n",
    "from sklearn.linear_model import LinearRegression\n",
    "from sklearn.model_selection import train_test_split\n",
    "from sklearn.metrics import mean_squared_error, r2_score\n",
    "import pandas as pd"
   ]
  },
  {
   "cell_type": "code",
   "execution_count": 2,
   "id": "70b7a755",
   "metadata": {},
   "outputs": [],
   "source": [
    "\n",
    "@step\n",
    "def ingest_data() -> pd.DataFrame:\n",
    "    \"\"\"Loads the diabetes dataset.\"\"\"\n",
    "    diabetes = load_diabetes()\n",
    "    data = pd.DataFrame(diabetes.data, columns=diabetes.feature_names)\n",
    "    data['target'] = diabetes.target\n",
    "    return data"
   ]
  },
  {
   "cell_type": "code",
   "execution_count": 3,
   "id": "30ac6441",
   "metadata": {},
   "outputs": [],
   "source": [
    "\n",
    "@step\n",
    "def clean_data(data: pd.DataFrame) -> pd.DataFrame:\n",
    "    \"\"\"Cleans the data by dropping null values.\"\"\"\n",
    "    return data.dropna()"
   ]
  },
  {
   "cell_type": "code",
   "execution_count": 4,
   "id": "60d9654f",
   "metadata": {},
   "outputs": [],
   "source": [
    "\n",
    "@step\n",
    "def train_model(data: pd.DataFrame) -> LinearRegression:\n",
    "    \"\"\"Trains a linear regression model.\"\"\"\n",
    "    X = data.drop('target', axis=1)\n",
    "    y = data['target']\n",
    "    X_train, _, y_train, _ = train_test_split(X, y, test_size=0.2, random_state=42)\n",
    "    model = LinearRegression()\n",
    "    model.fit(X_train, y_train)\n",
    "    return model"
   ]
  },
  {
   "cell_type": "code",
   "execution_count": 5,
   "id": "e54ce113",
   "metadata": {},
   "outputs": [],
   "source": [
    "\n",
    "@step\n",
    "def evaluate_model(model: LinearRegression, data: pd.DataFrame) -> None:\n",
    "    \"\"\"Evaluates the model and logs metrics.\"\"\"\n",
    "    X = data.drop('target', axis=1)\n",
    "    y = data['target']\n",
    "    _, X_test, _, y_test = train_test_split(X, y, test_size=0.2, random_state=42)\n",
    "    y_pred = model.predict(X_test)\n",
    "    \n",
    "    mse = mean_squared_error(y_test, y_pred)\n",
    "    r2 = r2_score(y_test, y_pred)\n",
    "    \n",
    "    print(f\"Mean Squared Error: {mse}\")\n",
    "    print(f\"R2 Score: {r2}\")"
   ]
  },
  {
   "cell_type": "code",
   "execution_count": 6,
   "id": "e01560c4",
   "metadata": {},
   "outputs": [],
   "source": [
    "\n",
    "@pipeline\n",
    "def basic_regression_pipeline():\n",
    "    \"\"\"Basic regression pipeline.\"\"\"\n",
    "    data = ingest_data()\n",
    "    cleaned_data = clean_data(data)\n",
    "    model = train_model(cleaned_data)\n",
    "    evaluate_model(model, cleaned_data)"
   ]
  },
  {
   "cell_type": "code",
   "execution_count": 7,
   "id": "30d3a27a",
   "metadata": {},
   "outputs": [
    {
     "name": "stdout",
     "output_type": "stream",
     "text": [
      "\u001b[1;35mInitiating a new run for the pipeline: \u001b[0m\u001b[1;36mbasic_regression_pipeline\u001b[1;35m.\u001b[0m\n",
      "\u001b[1;35mRegistered new pipeline: \u001b[0m\u001b[1;36mbasic_regression_pipeline\u001b[1;35m.\u001b[0m\n",
      "\u001b[1;35mUsing user: \u001b[0m\u001b[1;36mdefault\u001b[1;35m\u001b[0m\n",
      "\u001b[1;35mUsing stack: \u001b[0m\u001b[1;36mdefault\u001b[1;35m\u001b[0m\n",
      "\u001b[1;35m  orchestrator: \u001b[0m\u001b[1;36mdefault\u001b[1;35m\u001b[0m\n",
      "\u001b[1;35m  artifact_store: \u001b[0m\u001b[1;36mdefault\u001b[1;35m\u001b[0m\n",
      "\u001b[1;35mYou can visualize your pipeline runs in the \u001b[0m\u001b[1;36mZenML Dashboard\u001b[1;35m. In order to try it locally, please run \u001b[0m\u001b[1;36mzenml login --local\u001b[1;35m.\u001b[0m\n",
      "\u001b[1;35mStep \u001b[0m\u001b[1;36mingest_data\u001b[1;35m has started.\u001b[0m\n",
      "[ingest_data] \u001b[33mBy default, the \u001b[0m\u001b[1;36mPandasMaterializer\u001b[33m stores data as a \u001b[0m\u001b[1;36m.csv\u001b[33m file. If you want to store data more efficiently, you can install \u001b[0m\u001b[1;36mpyarrow\u001b[33m by running '\u001b[0m\u001b[1;36mpip install pyarrow\u001b[33m'. This will allow \u001b[0m\u001b[1;36mPandasMaterializer\u001b[33m to automatically store the data as a \u001b[0m\u001b[1;36m.parquet\u001b[33m file instead.\u001b[0m\n",
      "\u001b[1;35mStep \u001b[0m\u001b[1;36mingest_data\u001b[1;35m has finished in \u001b[0m\u001b[1;36m8.496s\u001b[1;35m.\u001b[0m\n",
      "\u001b[1;35mStep \u001b[0m\u001b[1;36mclean_data\u001b[1;35m has started.\u001b[0m\n",
      "[clean_data] \u001b[33mBy default, the \u001b[0m\u001b[1;36mPandasMaterializer\u001b[33m stores data as a \u001b[0m\u001b[1;36m.csv\u001b[33m file. If you want to store data more efficiently, you can install \u001b[0m\u001b[1;36mpyarrow\u001b[33m by running '\u001b[0m\u001b[1;36mpip install pyarrow\u001b[33m'. This will allow \u001b[0m\u001b[1;36mPandasMaterializer\u001b[33m to automatically store the data as a \u001b[0m\u001b[1;36m.parquet\u001b[33m file instead.\u001b[0m\n",
      "[clean_data] \u001b[33mBy default, the \u001b[0m\u001b[1;36mPandasMaterializer\u001b[33m stores data as a \u001b[0m\u001b[1;36m.csv\u001b[33m file. If you want to store data more efficiently, you can install \u001b[0m\u001b[1;36mpyarrow\u001b[33m by running '\u001b[0m\u001b[1;36mpip install pyarrow\u001b[33m'. This will allow \u001b[0m\u001b[1;36mPandasMaterializer\u001b[33m to automatically store the data as a \u001b[0m\u001b[1;36m.parquet\u001b[33m file instead.\u001b[0m\n"
     ]
    },
    {
     "name": "stderr",
     "output_type": "stream",
     "text": [
      "[clean_data] C:\\Users\\HP\\AppData\\Roaming\\Python\\Python312\\site-packages\\zenml\\integrations\\pandas\\materializers\\pandas_materializer.py:109: UserWarning: Could not infer format, so each element will be parsed individually, falling back to `dateutil`. To ensure parsing is consistent and as-expected, please specify a format.\n",
      "  df = pd.read_csv(f, index_col=0, parse_dates=True)\n"
     ]
    },
    {
     "name": "stdout",
     "output_type": "stream",
     "text": [
      "\u001b[1;35mStep \u001b[0m\u001b[1;36mclean_data\u001b[1;35m has finished in \u001b[0m\u001b[1;36m4.755s\u001b[1;35m.\u001b[0m\n",
      "\u001b[1;35mStep \u001b[0m\u001b[1;36mtrain_model\u001b[1;35m has started.\u001b[0m\n",
      "[train_model] \u001b[33mBy default, the \u001b[0m\u001b[1;36mPandasMaterializer\u001b[33m stores data as a \u001b[0m\u001b[1;36m.csv\u001b[33m file. If you want to store data more efficiently, you can install \u001b[0m\u001b[1;36mpyarrow\u001b[33m by running '\u001b[0m\u001b[1;36mpip install pyarrow\u001b[33m'. This will allow \u001b[0m\u001b[1;36mPandasMaterializer\u001b[33m to automatically store the data as a \u001b[0m\u001b[1;36m.parquet\u001b[33m file instead.\u001b[0m\n"
     ]
    },
    {
     "name": "stderr",
     "output_type": "stream",
     "text": [
      "[train_model] C:\\Users\\HP\\AppData\\Roaming\\Python\\Python312\\site-packages\\zenml\\integrations\\pandas\\materializers\\pandas_materializer.py:109: UserWarning: Could not infer format, so each element will be parsed individually, falling back to `dateutil`. To ensure parsing is consistent and as-expected, please specify a format.\n",
      "  df = pd.read_csv(f, index_col=0, parse_dates=True)\n"
     ]
    },
    {
     "name": "stdout",
     "output_type": "stream",
     "text": [
      "\u001b[1;35mStep \u001b[0m\u001b[1;36mtrain_model\u001b[1;35m has finished in \u001b[0m\u001b[1;36m4.573s\u001b[1;35m.\u001b[0m\n",
      "\u001b[1;35mStep \u001b[0m\u001b[1;36mevaluate_model\u001b[1;35m has started.\u001b[0m\n",
      "[evaluate_model] \u001b[33mBy default, the \u001b[0m\u001b[1;36mPandasMaterializer\u001b[33m stores data as a \u001b[0m\u001b[1;36m.csv\u001b[33m file. If you want to store data more efficiently, you can install \u001b[0m\u001b[1;36mpyarrow\u001b[33m by running '\u001b[0m\u001b[1;36mpip install pyarrow\u001b[33m'. This will allow \u001b[0m\u001b[1;36mPandasMaterializer\u001b[33m to automatically store the data as a \u001b[0m\u001b[1;36m.parquet\u001b[33m file instead.\u001b[0m\n",
      "[evaluate_model] Mean Squared Error: 2900.193628493483\n",
      "[evaluate_model] R2 Score: 0.45260276297191915\n",
      "\u001b[1;35mStep \u001b[0m\u001b[1;36mevaluate_model\u001b[1;35m has finished in \u001b[0m\u001b[1;36m0.204s\u001b[1;35m.\u001b[0m\n",
      "\u001b[1;35mPipeline run has finished in \u001b[0m\u001b[1;36m18.709s\u001b[1;35m.\u001b[0m\n"
     ]
    },
    {
     "name": "stderr",
     "output_type": "stream",
     "text": [
      "[evaluate_model] C:\\Users\\HP\\AppData\\Roaming\\Python\\Python312\\site-packages\\zenml\\integrations\\pandas\\materializers\\pandas_materializer.py:109: UserWarning: Could not infer format, so each element will be parsed individually, falling back to `dateutil`. To ensure parsing is consistent and as-expected, please specify a format.\n",
      "  df = pd.read_csv(f, index_col=0, parse_dates=True)\n"
     ]
    }
   ],
   "source": [
    "\n",
    "if __name__ == \"__main__\":\n",
    "    basic_regression_pipeline()"
   ]
  }
 ],
 "metadata": {
  "kernelspec": {
   "display_name": "Python 3",
   "language": "python",
   "name": "python3"
  },
  "language_info": {
   "codemirror_mode": {
    "name": "ipython",
    "version": 3
   },
   "file_extension": ".py",
   "mimetype": "text/x-python",
   "name": "python",
   "nbconvert_exporter": "python",
   "pygments_lexer": "ipython3",
   "version": "3.12.5"
  }
 },
 "nbformat": 4,
 "nbformat_minor": 5
}
