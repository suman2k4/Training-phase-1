{
 "cells": [
  {
   "cell_type": "code",
   "execution_count": 2,
   "id": "f8df001c",
   "metadata": {},
   "outputs": [],
   "source": [
    "from zenml import step, pipeline\n",
    "from zenml.client import Client\n",
    "import mlflow\n",
    "import pandas as pd\n",
    "from sklearn.linear_model import LinearRegression\n",
    "from sklearn.model_selection import train_test_split\n",
    "from sklearn.metrics import mean_squared_error,r2_score"
   ]
  },
  {
   "cell_type": "code",
   "execution_count": 3,
   "id": "b869a552",
   "metadata": {},
   "outputs": [],
   "source": [
    "\n",
    "experiment_tracker = Client().active_stack.experiment_tracker"
   ]
  },
  {
   "cell_type": "code",
   "execution_count": 4,
   "id": "83fa28be",
   "metadata": {},
   "outputs": [],
   "source": [
    "\n",
    "@step(experiment_tracker=experiment_tracker.name)\n",
    "def train_model(data: pd.DataFrame) -> LinearRegression:\n",
    "    \"\"\"Trains a linear regression model with MLflow tracking.\"\"\"\n",
    "    mlflow.sklearn.autolog()\n",
    "    \n",
    "    X = data.drop('target', axis=1)\n",
    "    y = data['target']\n",
    "    X_train, _, y_train, _ = train_test_split(X, y, test_size=0.2, random_state=42)\n",
    "    \n",
    "    with mlflow.start_run():\n",
    "        model = LinearRegression()\n",
    "        model.fit(X_train, y_train)\n",
    "    \n",
    "    return model"
   ]
  },
  {
   "cell_type": "code",
   "execution_count": 5,
   "id": "953e2db1",
   "metadata": {},
   "outputs": [],
   "source": [
    "\n",
    "@step(experiment_tracker=experiment_tracker.name)\n",
    "def evaluate_model(model: LinearRegression, data: pd.DataFrame) -> None:\n",
    "    \"\"\"Evaluates the model and logs metrics to MLflow.\"\"\"\n",
    "    X = data.drop('target', axis=1)\n",
    "    y = data['target']\n",
    "    _, X_test, _, y_test = train_test_split(X, y, test_size=0.2, random_state=42)\n",
    "    \n",
    "    with mlflow.start_run():\n",
    "        y_pred = model.predict(X_test)\n",
    "        mse = mean_squared_error(y_test, y_pred)\n",
    "        r2 = r2_score(y_test, y_pred)\n",
    "        \n",
    "        mlflow.log_metric(\"mse\", mse)\n",
    "        mlflow.log_metric(\"r2\", r2)"
   ]
  }
 ],
 "metadata": {
  "kernelspec": {
   "display_name": "Python 3",
   "language": "python",
   "name": "python3"
  },
  "language_info": {
   "codemirror_mode": {
    "name": "ipython",
    "version": 3
   },
   "file_extension": ".py",
   "mimetype": "text/x-python",
   "name": "python",
   "nbconvert_exporter": "python",
   "pygments_lexer": "ipython3",
   "version": "3.12.5"
  }
 },
 "nbformat": 4,
 "nbformat_minor": 5
}
