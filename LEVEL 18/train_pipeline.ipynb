{
 "cells": [
  {
   "cell_type": "code",
   "execution_count": 1,
   "id": "3fdcac40",
   "metadata": {},
   "outputs": [
    {
     "name": "stdout",
     "output_type": "stream",
     "text": [
      "\u001b[1;35mInitiating a new run for the pipeline: \u001b[0m\u001b[1;36mtraining_pipeline\u001b[1;35m.\u001b[0m\n",
      "\u001b[1;35mRegistered new pipeline: \u001b[0m\u001b[1;36mtraining_pipeline\u001b[1;35m.\u001b[0m\n",
      "\u001b[1;35mUsing user: \u001b[0m\u001b[1;36mdefault\u001b[1;35m\u001b[0m\n",
      "\u001b[1;35mUsing stack: \u001b[0m\u001b[1;36mdefault\u001b[1;35m\u001b[0m\n",
      "\u001b[1;35m  orchestrator: \u001b[0m\u001b[1;36mdefault\u001b[1;35m\u001b[0m\n",
      "\u001b[1;35m  artifact_store: \u001b[0m\u001b[1;36mdefault\u001b[1;35m\u001b[0m\n",
      "\u001b[1;35mYou can visualize your pipeline runs in the \u001b[0m\u001b[1;36mZenML Dashboard\u001b[1;35m. In order to try it locally, please run \u001b[0m\u001b[1;36mzenml login --local\u001b[1;35m.\u001b[0m\n",
      "\u001b[1;35mUsing cached version of step \u001b[0m\u001b[1;36mload_data\u001b[1;35m.\u001b[0m\n",
      "\u001b[1;35mUsing cached version of step \u001b[0m\u001b[1;36mclean_data\u001b[1;35m.\u001b[0m\n",
      "\u001b[1;35mStep \u001b[0m\u001b[1;36mtrain_model\u001b[1;35m has started.\u001b[0m\n",
      "\u001b[1;35mStep \u001b[0m\u001b[1;36mtrain_model\u001b[1;35m has finished in \u001b[0m\u001b[1;36m4.291s\u001b[1;35m.\u001b[0m\n",
      "\u001b[1;35mPipeline run has finished in \u001b[0m\u001b[1;36m4.419s\u001b[1;35m.\u001b[0m\n"
     ]
    }
   ],
   "source": [
    "from zenml import pipeline\n",
    "from steps.clean_data import clean_data\n",
    "from steps.train_model import train_model\n",
    "import pandas as pd\n",
    "from sklearn.datasets import load_digits\n",
    "from zenml import step\n",
    "\n",
    "@step\n",
    "def load_data() -> pd.DataFrame:\n",
    "    data = load_digits()\n",
    "    df = pd.DataFrame(data.data)\n",
    "    df['target'] = data.target\n",
    "    return df\n",
    "\n",
    "@pipeline\n",
    "def training_pipeline():\n",
    "    df = load_data()\n",
    "    cleaned_df = clean_data(df)\n",
    "    train_model(cleaned_df)\n",
    "\n",
    "if __name__ == \"__main__\":\n",
    "    training_pipeline()\n"
   ]
  }
 ],
 "metadata": {
  "kernelspec": {
   "display_name": "Python 3",
   "language": "python",
   "name": "python3"
  },
  "language_info": {
   "codemirror_mode": {
    "name": "ipython",
    "version": 3
   },
   "file_extension": ".py",
   "mimetype": "text/x-python",
   "name": "python",
   "nbconvert_exporter": "python",
   "pygments_lexer": "ipython3",
   "version": "3.11.1"
  }
 },
 "nbformat": 4,
 "nbformat_minor": 5
}
