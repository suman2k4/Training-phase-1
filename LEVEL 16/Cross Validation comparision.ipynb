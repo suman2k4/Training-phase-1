{
 "cells": [
  {
   "cell_type": "code",
   "execution_count": 40,
   "id": "5a3c12d1",
   "metadata": {},
   "outputs": [],
   "source": [
    "import pandas as pd\n",
    "import numpy as np\n",
    "from sklearn.model_selection import cross_val_score\n",
    "from sklearn.ensemble import RandomForestRegressor\n",
    "from sklearn.linear_model import LinearRegression\n",
    "from sklearn.preprocessing import StandardScaler, OneHotEncoder\n",
    "from sklearn.compose import ColumnTransformer\n",
    "from sklearn.pipeline import Pipeline"
   ]
  },
  {
   "cell_type": "code",
   "execution_count": 41,
   "id": "629d52a5",
   "metadata": {},
   "outputs": [],
   "source": [
    "\n",
    "df = pd.read_csv('SeoulBikeData.csv')"
   ]
  },
  {
   "cell_type": "code",
   "execution_count": 42,
   "id": "6e3a50e1",
   "metadata": {},
   "outputs": [],
   "source": [
    "\n",
    "df.columns = [col.strip().lower().replace(' ', '_').replace('(', '').replace(')', '') \n",
    "              for col in df.columns]"
   ]
  },
  {
   "cell_type": "code",
   "execution_count": 43,
   "id": "7760bc1c",
   "metadata": {},
   "outputs": [],
   "source": [
    "\n",
    "numeric_cols = ['hour', 'temperature_c', 'humidity_percent', \n",
    "                'wind_speed_ms', 'visibility_10m', \n",
    "                'dew_point_temperature_c', 'solar_radiation_mjm2',\n",
    "                'rainfall_mm', 'snowfall_cm']\n",
    "categorical_cols = ['seasons', 'holiday', 'functioning_day']"
   ]
  },
  {
   "cell_type": "code",
   "execution_count": 44,
   "id": "6eaa06ab",
   "metadata": {},
   "outputs": [],
   "source": [
    "\n",
    "numeric_cols = [col for col in numeric_cols if col in df.columns]\n",
    "categorical_cols = [col for col in categorical_cols if col in df.columns]"
   ]
  },
  {
   "cell_type": "code",
   "execution_count": 45,
   "id": "cbafa5af",
   "metadata": {},
   "outputs": [],
   "source": [
    "\n",
    "preprocessor = ColumnTransformer(\n",
    "    transformers=[\n",
    "        ('num', StandardScaler(), numeric_cols),\n",
    "        ('cat', OneHotEncoder(), categorical_cols)\n",
    "    ])"
   ]
  },
  {
   "cell_type": "code",
   "execution_count": 46,
   "id": "18902316",
   "metadata": {},
   "outputs": [],
   "source": [
    "\n",
    "models = {\n",
    "    \"Linear Regression\": Pipeline([\n",
    "        ('preprocessor', preprocessor),\n",
    "        ('model', LinearRegression())\n",
    "    ]),\n",
    "    \"Random Forest\": Pipeline([\n",
    "        ('preprocessor', preprocessor),\n",
    "        ('model', RandomForestRegressor(n_estimators=100, random_state=42))\n",
    "    ])\n",
    "}"
   ]
  },
  {
   "cell_type": "code",
   "execution_count": 47,
   "id": "601ad4b0",
   "metadata": {},
   "outputs": [],
   "source": [
    "\n",
    "y = df['rented_bike_count'] "
   ]
  },
  {
   "cell_type": "code",
   "execution_count": 48,
   "id": "ab49e4e1",
   "metadata": {},
   "outputs": [],
   "source": [
    "results = []\n",
    "for name, pipeline in models.items():\n",
    "    try:\n",
    "        scores = cross_val_score(\n",
    "            pipeline, df.drop('rented_bike_count', axis=1), y,\n",
    "            cv=5,\n",
    "            scoring='neg_mean_squared_error',\n",
    "            n_jobs=-1\n",
    "        )\n",
    "        results.append({\n",
    "            'Model': name,\n",
    "            'Mean MSE': f\"{-np.mean(scores):.1f}\",\n",
    "            'Std MSE': f\"{np.std(scores):.1f}\"\n",
    "        })\n",
    "    except Exception as e:\n",
    "        print(f\"Error with {name}: {str(e)}\")"
   ]
  },
  {
   "cell_type": "code",
   "execution_count": 49,
   "id": "2aceca3e",
   "metadata": {},
   "outputs": [
    {
     "name": "stdout",
     "output_type": "stream",
     "text": [
      "\n",
      "Cross-Validation Results:\n",
      "| Model             |   Mean MSE |   Std MSE |\n",
      "|:------------------|-----------:|----------:|\n",
      "| Linear Regression |     297960 |    134906 |\n",
      "| Random Forest     |     242286 |    130088 |\n"
     ]
    }
   ],
   "source": [
    "\n",
    "if results:\n",
    "    results_df = pd.DataFrame(results)\n",
    "    print(\"\\nCross-Validation Results:\")\n",
    "    print(results_df.to_markdown(index=False))\n",
    "else:\n",
    "    print(\"No models completed successfully\")"
   ]
  },
  {
   "cell_type": "code",
   "execution_count": 50,
   "id": "2a4fab26",
   "metadata": {},
   "outputs": [
    {
     "name": "stdout",
     "output_type": "stream",
     "text": [
      "\n",
      "Key Improvements:\n",
      "- Proper handling of categorical features (like 'Winter') via OneHotEncoder\n",
      "- Robust pipeline prevents data leakage\n",
      "- Automatic column name cleaning\n"
     ]
    }
   ],
   "source": [
    "\n",
    "print(\"\\nKey Improvements:\")\n",
    "print(\"- Proper handling of categorical features (like 'Winter') via OneHotEncoder\")\n",
    "print(\"- Robust pipeline prevents data leakage\")\n",
    "print(\"- Automatic column name cleaning\")"
   ]
  }
 ],
 "metadata": {
  "kernelspec": {
   "display_name": "Python 3",
   "language": "python",
   "name": "python3"
  },
  "language_info": {
   "codemirror_mode": {
    "name": "ipython",
    "version": 3
   },
   "file_extension": ".py",
   "mimetype": "text/x-python",
   "name": "python",
   "nbconvert_exporter": "python",
   "pygments_lexer": "ipython3",
   "version": "3.12.5"
  }
 },
 "nbformat": 4,
 "nbformat_minor": 5
}
