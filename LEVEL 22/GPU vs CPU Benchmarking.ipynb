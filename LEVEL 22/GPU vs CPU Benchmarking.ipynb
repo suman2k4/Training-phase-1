{
 "cells": [
  {
   "cell_type": "code",
   "execution_count": 8,
   "id": "3aa78c79",
   "metadata": {},
   "outputs": [],
   "source": [
    "import time\n",
    "import tensorflow as tf\n",
    "from tensorflow.keras.datasets import mnist\n",
    "from tensorflow.keras.models import Sequential\n",
    "from tensorflow.keras.layers import Dense\n",
    "import pandas as pd"
   ]
  },
  {
   "cell_type": "code",
   "execution_count": 3,
   "id": "c7318432",
   "metadata": {},
   "outputs": [],
   "source": [
    "\n",
    "(X_train, y_train), (X_test, y_test) = mnist.load_data()\n",
    "X_train = X_train.reshape(-1, 784) / 255.0\n",
    "X_test = X_test.reshape(-1, 784) / 255.0\n",
    "y_train = tf.keras.utils.to_categorical(y_train)\n",
    "y_test = tf.keras.utils.to_categorical(y_test)"
   ]
  },
  {
   "cell_type": "code",
   "execution_count": 4,
   "id": "5bab33c6",
   "metadata": {},
   "outputs": [],
   "source": [
    "\n",
    "def build_model():\n",
    "    return Sequential([\n",
    "        Dense(256, activation='relu', input_shape=(784,)),\n",
    "        Dense(256, activation='relu'),\n",
    "        Dense(10, activation='softmax')\n",
    "    ])"
   ]
  },
  {
   "cell_type": "code",
   "execution_count": 5,
   "id": "be732f62",
   "metadata": {},
   "outputs": [],
   "source": [
    "\n",
    "def benchmark(device):\n",
    "    with tf.device(device):\n",
    "        model = build_model()\n",
    "        model.compile(optimizer='adam', loss='categorical_crossentropy', metrics=['accuracy'])\n",
    "        start = time.time()\n",
    "        model.fit(X_train, y_train, epochs=10, batch_size=32, verbose=0)\n",
    "        train_time = time.time() - start\n",
    "        _, accuracy = model.evaluate(X_test, y_test, verbose=0)\n",
    "    return train_time, accuracy"
   ]
  },
  {
   "cell_type": "code",
   "execution_count": 6,
   "id": "cff6cbd0",
   "metadata": {},
   "outputs": [
    {
     "name": "stderr",
     "output_type": "stream",
     "text": [
      "C:\\Users\\HP\\AppData\\Roaming\\Python\\Python312\\site-packages\\keras\\src\\layers\\core\\dense.py:87: UserWarning: Do not pass an `input_shape`/`input_dim` argument to a layer. When using Sequential models, prefer using an `Input(shape)` object as the first layer in the model instead.\n",
      "  super().__init__(activity_regularizer=activity_regularizer, **kwargs)\n"
     ]
    }
   ],
   "source": [
    "\n",
    "cpu_time, cpu_acc = benchmark('/CPU:0')\n",
    "gpu_time, gpu_acc = benchmark('/GPU:0') if tf.config.list_physical_devices('GPU') else (None, None)"
   ]
  },
  {
   "cell_type": "code",
   "execution_count": 9,
   "id": "1741fcff",
   "metadata": {},
   "outputs": [
    {
     "name": "stdout",
     "output_type": "stream",
     "text": [
      "  Device  Training Time (s)  Test Accuracy\n",
      "0    CPU          75.121817         0.9762\n",
      "1    GPU                NaN            NaN\n",
      "\n",
      "Note: GPU typically provides 5-10x speedup for matrix\n",
      "operations in deep networks, though exact improvement\n",
      "depends on hardware and batch sizes.\n"
     ]
    }
   ],
   "source": [
    "\n",
    "results = pd.DataFrame({\n",
    "    'Device': ['CPU', 'GPU'],\n",
    "    'Training Time (s)': [cpu_time, gpu_time],\n",
    "    'Test Accuracy': [cpu_acc, gpu_acc]\n",
    "})\n",
    "print(results)\n",
    "\n",
    "print(\"\\nNote: GPU typically provides 5-10x speedup for matrix\")\n",
    "print(\"operations in deep networks, though exact improvement\")\n",
    "print(\"depends on hardware and batch sizes.\")"
   ]
  }
 ],
 "metadata": {
  "kernelspec": {
   "display_name": "Python 3",
   "language": "python",
   "name": "python3"
  },
  "language_info": {
   "codemirror_mode": {
    "name": "ipython",
    "version": 3
   },
   "file_extension": ".py",
   "mimetype": "text/x-python",
   "name": "python",
   "nbconvert_exporter": "python",
   "pygments_lexer": "ipython3",
   "version": "3.12.5"
  }
 },
 "nbformat": 4,
 "nbformat_minor": 5
}
