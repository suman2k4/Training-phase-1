{
 "cells": [
  {
   "cell_type": "code",
   "execution_count": 3,
   "id": "d6377e37",
   "metadata": {},
   "outputs": [],
   "source": [
    "import numpy as np\n",
    "import pandas as pd\n",
    "from sklearn.datasets import fetch_california_housing\n",
    "from sklearn.preprocessing import StandardScaler\n",
    "from sklearn.model_selection import train_test_split\n",
    "import matplotlib.pyplot as plt"
   ]
  },
  {
   "cell_type": "code",
   "execution_count": 4,
   "id": "7f1bc946",
   "metadata": {},
   "outputs": [],
   "source": [
    "\n",
    "data = fetch_california_housing()\n",
    "X = data.data\n",
    "y = data.target.reshape(-1, 1)"
   ]
  },
  {
   "cell_type": "code",
   "execution_count": 5,
   "id": "3e513ca1",
   "metadata": {},
   "outputs": [],
   "source": [
    "\n",
    "scaler = StandardScaler()\n",
    "X = scaler.fit_transform(X)\n",
    "X_train, X_test, y_train, y_test = train_test_split(X, y, test_size=0.2, random_state=42)"
   ]
  },
  {
   "cell_type": "code",
   "execution_count": 6,
   "id": "19a3d8e8",
   "metadata": {},
   "outputs": [],
   "source": [
    "\n",
    "n_features = X.shape[1]\n",
    "weights = np.random.randn(n_features, 1) * 0.01\n",
    "bias = np.zeros(1)\n",
    "learning_rate = 0.01\n",
    "epochs = 100\n",
    "losses = []"
   ]
  },
  {
   "cell_type": "code",
   "execution_count": 7,
   "id": "f63e3f3b",
   "metadata": {},
   "outputs": [
    {
     "name": "stdout",
     "output_type": "stream",
     "text": [
      "Epoch 0, Loss: 5.6594\n",
      "Epoch 10, Loss: 4.7390\n",
      "Epoch 20, Loss: 3.9883\n",
      "Epoch 30, Loss: 3.3755\n",
      "Epoch 40, Loss: 2.8752\n",
      "Epoch 50, Loss: 2.4664\n",
      "Epoch 60, Loss: 2.1324\n",
      "Epoch 70, Loss: 1.8592\n",
      "Epoch 80, Loss: 1.6357\n",
      "Epoch 90, Loss: 1.4527\n"
     ]
    }
   ],
   "source": [
    "\n",
    "for epoch in range(epochs):\n",
    "\n",
    "    y_pred = np.dot(X_train, weights) + bias\n",
    "    loss = np.mean((y_pred - y_train)**2)\n",
    "    losses.append(loss)\n",
    "    \n",
    "    error = y_pred - y_train\n",
    "    grad_weights = np.dot(X_train.T, error) / len(X_train)\n",
    "    grad_bias = np.mean(error)\n",
    "    \n",
    "    weights -= learning_rate * grad_weights\n",
    "    bias -= learning_rate * grad_bias\n",
    "\n",
    "    if epoch % 10 == 0:\n",
    "        print(f\"Epoch {epoch}, Loss: {loss:.4f}\")"
   ]
  },
  {
   "cell_type": "code",
   "execution_count": 8,
   "id": "18aa754b",
   "metadata": {},
   "outputs": [
    {
     "data": {
      "image/png": "[encoded data removed]",
      "text/plain": [
       "<Figure size 800x500 with 1 Axes>"
      ]
     },
     "metadata": {},
     "output_type": "display_data"
    }
   ],
   "source": [
    "\n",
    "plt.figure(figsize=(8, 5))\n",
    "plt.plot(losses)\n",
    "plt.title('Gradient Descent Loss Curve (California Housing)')\n",
    "plt.xlabel('Epoch')\n",
    "plt.ylabel('MSE Loss')\n",
    "plt.grid(True)\n",
    "plt.show()"
   ]
  },
  {
   "cell_type": "code",
   "execution_count": 9,
   "id": "3a590f4c",
   "metadata": {},
   "outputs": [
    {
     "name": "stdout",
     "output_type": "stream",
     "text": [
      "\n",
      "First 10 Test Predictions:\n",
      "   Actual  Predicted  Difference\n",
      "0   0.477     0.6449     -0.1679\n",
      "1   0.458     0.9766     -0.5186\n",
      "2   5.000     1.3303      3.6698\n",
      "3   2.186     1.7758      0.4102\n",
      "4   2.780     1.3539      1.4261\n",
      "5   1.587     1.4212      0.1658\n",
      "6   1.982     1.7475      0.2345\n",
      "7   1.575     1.3667      0.2083\n",
      "8   3.400     1.3311      2.0689\n",
      "9   4.466     2.6218      1.8442\n"
     ]
    }
   ],
   "source": [
    "\n",
    "test_pred = np.dot(X_test, weights) + bias\n",
    "results = pd.DataFrame({\n",
    "    'Actual': y_test.flatten(), \n",
    "    'Predicted': test_pred.flatten(),\n",
    "    'Difference': (y_test.flatten() - test_pred.flatten())\n",
    "}).head(10)\n",
    "\n",
    "print(\"\\nFirst 10 Test Predictions:\")\n",
    "print(results.round(4))"
   ]
  },
  {
   "cell_type": "code",
   "execution_count": 10,
   "id": "c1190d7f",
   "metadata": {},
   "outputs": [
    {
     "name": "stdout",
     "output_type": "stream",
     "text": [
      "\n",
      "Final Test MSE: 1.2959\n",
      "Final Weights: [np.float64(0.4953), np.float64(0.0956), np.float64(0.067), np.float64(-0.0397), np.float64(-0.0056), np.float64(-0.0201), np.float64(-0.1091), np.float64(-0.0667)]\n",
      "Final Bias: 1.3126\n"
     ]
    }
   ],
   "source": [
    "\n",
    "final_loss = np.mean((test_pred - y_test)**2)\n",
    "print(f\"\\nFinal Test MSE: {final_loss:.4f}\")\n",
    "print(f\"Final Weights: {[round(w[0], 4) for w in weights]}\")\n",
    "print(f\"Final Bias: {bias[0]:.4f}\")"
   ]
  }
 ],
 "metadata": {
  "kernelspec": {
   "display_name": "Python 3",
   "language": "python",
   "name": "python3"
  },
  "language_info": {
   "codemirror_mode": {
    "name": "ipython",
    "version": 3
   },
   "file_extension": ".py",
   "mimetype": "text/x-python",
   "name": "python",
   "nbconvert_exporter": "python",
   "pygments_lexer": "ipython3",
   "version": "3.12.5"
  }
 },
 "nbformat": 4,
 "nbformat_minor": 5
}
