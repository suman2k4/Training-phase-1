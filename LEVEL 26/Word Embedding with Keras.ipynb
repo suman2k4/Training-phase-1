{
 "cells": [
  {
   "cell_type": "code",
   "execution_count": 55,
   "id": "354548d1",
   "metadata": {},
   "outputs": [],
   "source": [
    "import pandas as pd\n",
    "import numpy as np\n",
    "import tensorflow as tf\n",
    "from tensorflow.keras.preprocessing.text import Tokenizer\n",
    "from tensorflow.keras.preprocessing.sequence import pad_sequences\n",
    "from tensorflow.keras.models import Sequential\n",
    "from tensorflow.keras.layers import Embedding, Flatten, Dense\n",
    "from sklearn.model_selection import train_test_split\n",
    "from sklearn.manifold import TSNE\n",
    "import matplotlib.pyplot as plt\n",
    "import matplotlib.cm as cm\n",
    "\n",
    "# Set random seed for reproducibility\n",
    "tf.random.set_seed(42)\n",
    "np.random.seed(42)"
   ]
  },
  {
   "cell_type": "markdown",
   "id": "f0282dab",
   "metadata": {},
   "source": [
    "### Load and Prepare the Dataset"
   ]
  },
  {
   "cell_type": "code",
   "execution_count": 56,
   "id": "437e84eb",
   "metadata": {},
   "outputs": [
    {
     "name": "stdout",
     "output_type": "stream",
     "text": [
      "Dataset size: 100000\n",
      "        target         ids                          date      flag  \\\n",
      "541200       0  2200003196  Tue Jun 16 18:18:12 PDT 2009  NO_QUERY   \n",
      "750          0  1467998485  Mon Apr 06 23:11:14 PDT 2009  NO_QUERY   \n",
      "766711       0  2300048954  Tue Jun 23 13:40:11 PDT 2009  NO_QUERY   \n",
      "285055       0  1993474027  Mon Jun 01 10:26:07 PDT 2009  NO_QUERY   \n",
      "705995       0  2256550904  Sat Jun 20 12:56:51 PDT 2009  NO_QUERY   \n",
      "\n",
      "                   user                                               text  \n",
      "541200  LaLaLindsey0609             @chrishasboobs AHHH I HOPE YOUR OK!!!   \n",
      "750         sexygrneyes  @misstoriblack cool , i have no tweet apps  fo...  \n",
      "766711       sammydearr  @TiannaChaos i know  just family drama. its la...  \n",
      "285055      Lamb_Leanne  School email won't open  and I have geography ...  \n",
      "705995      yogicerdito                             upper airways problem   \n"
     ]
    }
   ],
   "source": [
    "df = pd.read_csv('training.1600000.processed.noemoticon.csv', \n",
    "                 encoding='latin-1', \n",
    "                 header=None,\n",
    "                 names=['target', 'ids', 'date', 'flag', 'user', 'text'])\n",
    "\n",
    "# Convert target: 4 is positive -> 1, 0 is negative -> 0\n",
    "df['target'] = df['target'].replace(4, 1)\n",
    "\n",
    "# Take a smaller sample for faster training (optional)\n",
    "df = df.sample(100000, random_state=42)\n",
    "\n",
    "# Display dataset info\n",
    "print(f\"Dataset size: {len(df)}\")\n",
    "print(df.head())"
   ]
  },
  {
   "cell_type": "markdown",
   "id": "fae4ee61",
   "metadata": {},
   "source": [
    "###  Preprocess the Text Data"
   ]
  },
  {
   "cell_type": "code",
   "execution_count": 57,
   "id": "f1d90bba",
   "metadata": {},
   "outputs": [],
   "source": [
    "# Parameters\n",
    "VOCAB_SIZE = 10000  # Number of most frequent words to keep\n",
    "MAX_LEN = 50        # Maximum length of tweets (pad or truncate)\n",
    "EMBEDDING_DIM = 100 # Dimension of word embeddings\n"
   ]
  },
  {
   "cell_type": "code",
   "execution_count": 58,
   "id": "a77cf173",
   "metadata": {},
   "outputs": [],
   "source": [
    "\n",
    "# Split into train and test sets\n",
    "train_df, test_df = train_test_split(df, test_size=0.2, random_state=42)"
   ]
  },
  {
   "cell_type": "code",
   "execution_count": 59,
   "id": "23cc400d",
   "metadata": {},
   "outputs": [],
   "source": [
    "\n",
    "# Initialize tokenizer\n",
    "tokenizer = Tokenizer(num_words=VOCAB_SIZE, oov_token='<OOV>')\n",
    "tokenizer.fit_on_texts(train_df['text'])"
   ]
  },
  {
   "cell_type": "code",
   "execution_count": 60,
   "id": "d65ea0f2",
   "metadata": {},
   "outputs": [],
   "source": [
    "\n",
    "# Convert texts to sequences\n",
    "train_sequences = tokenizer.texts_to_sequences(train_df['text'])\n",
    "test_sequences = tokenizer.texts_to_sequences(test_df['text'])"
   ]
  },
  {
   "cell_type": "code",
   "execution_count": 61,
   "id": "d9f5beb6",
   "metadata": {},
   "outputs": [],
   "source": [
    "\n",
    "# Pad sequences to make them uniform length\n",
    "X_train = pad_sequences(train_sequences, maxlen=MAX_LEN, padding='post', truncating='post')\n",
    "X_test = pad_sequences(test_sequences, maxlen=MAX_LEN, padding='post', truncating='post')\n"
   ]
  },
  {
   "cell_type": "code",
   "execution_count": 62,
   "id": "886ce380",
   "metadata": {},
   "outputs": [
    {
     "name": "stdout",
     "output_type": "stream",
     "text": [
      "Training data shape: (80000, 50)\n",
      "Test data shape: (20000, 50)\n"
     ]
    }
   ],
   "source": [
    "\n",
    "# Get labels\n",
    "y_train = train_df['target'].values\n",
    "y_test = test_df['target'].values\n",
    "\n",
    "print(f\"Training data shape: {X_train.shape}\")\n",
    "print(f\"Test data shape: {X_test.shape}\")"
   ]
  },
  {
   "cell_type": "markdown",
   "id": "2fafe611",
   "metadata": {},
   "source": [
    "###  Build the Embedding Model"
   ]
  },
  {
   "cell_type": "code",
   "execution_count": 63,
   "id": "fd2216bb",
   "metadata": {},
   "outputs": [
    {
     "name": "stderr",
     "output_type": "stream",
     "text": [
      "C:\\Users\\HP\\AppData\\Roaming\\Python\\Python312\\site-packages\\keras\\src\\layers\\core\\embedding.py:90: UserWarning: Argument `input_length` is deprecated. Just remove it.\n",
      "  warnings.warn(\n"
     ]
    },
    {
     "data": {
      "text/html": [
       "<pre style=\"white-space:pre;overflow-x:auto;line-height:normal;font-family:Menlo,'DejaVu Sans Mono',consolas,'Courier New',monospace\"><span style=\"font-weight: bold\">Model: \"sequential_3\"</span>\n",
       "</pre>\n"
      ],
      "text/plain": [
       "\u001b[1mModel: \"sequential_3\"\u001b[0m\n"
      ]
     },
     "metadata": {},
     "output_type": "display_data"
    },
    {
     "data": {
      "text/html": [
       "<pre style=\"white-space:pre;overflow-x:auto;line-height:normal;font-family:Menlo,'DejaVu Sans Mono',consolas,'Courier New',monospace\">┏━━━━━━━━━━━━━━━━━━━━━━━━━━━━━━━━━┳━━━━━━━━━━━━━━━━━━━━━━━━┳━━━━━━━━━━━━━━━┓\n",
       "┃<span style=\"font-weight: bold\"> Layer (type)                    </span>┃<span style=\"font-weight: bold\"> Output Shape           </span>┃<span style=\"font-weight: bold\">       Param # </span>┃\n",
       "┡━━━━━━━━━━━━━━━━━━━━━━━━━━━━━━━━━╇━━━━━━━━━━━━━━━━━━━━━━━━╇━━━━━━━━━━━━━━━┩\n",
       "│ embedding_3 (<span style=\"color: #0087ff; text-decoration-color: #0087ff\">Embedding</span>)         │ ?                      │   <span style=\"color: #00af00; text-decoration-color: #00af00\">0</span> (unbuilt) │\n",
       "├─────────────────────────────────┼────────────────────────┼───────────────┤\n",
       "│ flatten_3 (<span style=\"color: #0087ff; text-decoration-color: #0087ff\">Flatten</span>)             │ ?                      │   <span style=\"color: #00af00; text-decoration-color: #00af00\">0</span> (unbuilt) │\n",
       "├─────────────────────────────────┼────────────────────────┼───────────────┤\n",
       "│ dense_6 (<span style=\"color: #0087ff; text-decoration-color: #0087ff\">Dense</span>)                 │ ?                      │   <span style=\"color: #00af00; text-decoration-color: #00af00\">0</span> (unbuilt) │\n",
       "├─────────────────────────────────┼────────────────────────┼───────────────┤\n",
       "│ dense_7 (<span style=\"color: #0087ff; text-decoration-color: #0087ff\">Dense</span>)                 │ ?                      │   <span style=\"color: #00af00; text-decoration-color: #00af00\">0</span> (unbuilt) │\n",
       "└─────────────────────────────────┴────────────────────────┴───────────────┘\n",
       "</pre>\n"
      ],
      "text/plain": [
       "┏━━━━━━━━━━━━━━━━━━━━━━━━━━━━━━━━━┳━━━━━━━━━━━━━━━━━━━━━━━━┳━━━━━━━━━━━━━━━┓\n",
       "┃\u001b[1m \u001b[0m\u001b[1mLayer (type)                   \u001b[0m\u001b[1m \u001b[0m┃\u001b[1m \u001b[0m\u001b[1mOutput Shape          \u001b[0m\u001b[1m \u001b[0m┃\u001b[1m \u001b[0m\u001b[1m      Param #\u001b[0m\u001b[1m \u001b[0m┃\n",
       "┡━━━━━━━━━━━━━━━━━━━━━━━━━━━━━━━━━╇━━━━━━━━━━━━━━━━━━━━━━━━╇━━━━━━━━━━━━━━━┩\n",
       "│ embedding_3 (\u001b[38;5;33mEmbedding\u001b[0m)         │ ?                      │   \u001b[38;5;34m0\u001b[0m (unbuilt) │\n",
       "├─────────────────────────────────┼────────────────────────┼───────────────┤\n",
       "│ flatten_3 (\u001b[38;5;33mFlatten\u001b[0m)             │ ?                      │   \u001b[38;5;34m0\u001b[0m (unbuilt) │\n",
       "├─────────────────────────────────┼────────────────────────┼───────────────┤\n",
       "│ dense_6 (\u001b[38;5;33mDense\u001b[0m)                 │ ?                      │   \u001b[38;5;34m0\u001b[0m (unbuilt) │\n",
       "├─────────────────────────────────┼────────────────────────┼───────────────┤\n",
       "│ dense_7 (\u001b[38;5;33mDense\u001b[0m)                 │ ?                      │   \u001b[38;5;34m0\u001b[0m (unbuilt) │\n",
       "└─────────────────────────────────┴────────────────────────┴───────────────┘\n"
      ]
     },
     "metadata": {},
     "output_type": "display_data"
    },
    {
     "data": {
      "text/html": [
       "<pre style=\"white-space:pre;overflow-x:auto;line-height:normal;font-family:Menlo,'DejaVu Sans Mono',consolas,'Courier New',monospace\"><span style=\"font-weight: bold\"> Total params: </span><span style=\"color: #00af00; text-decoration-color: #00af00\">0</span> (0.00 B)\n",
       "</pre>\n"
      ],
      "text/plain": [
       "\u001b[1m Total params: \u001b[0m\u001b[38;5;34m0\u001b[0m (0.00 B)\n"
      ]
     },
     "metadata": {},
     "output_type": "display_data"
    },
    {
     "data": {
      "text/html": [
       "<pre style=\"white-space:pre;overflow-x:auto;line-height:normal;font-family:Menlo,'DejaVu Sans Mono',consolas,'Courier New',monospace\"><span style=\"font-weight: bold\"> Trainable params: </span><span style=\"color: #00af00; text-decoration-color: #00af00\">0</span> (0.00 B)\n",
       "</pre>\n"
      ],
      "text/plain": [
       "\u001b[1m Trainable params: \u001b[0m\u001b[38;5;34m0\u001b[0m (0.00 B)\n"
      ]
     },
     "metadata": {},
     "output_type": "display_data"
    },
    {
     "data": {
      "text/html": [
       "<pre style=\"white-space:pre;overflow-x:auto;line-height:normal;font-family:Menlo,'DejaVu Sans Mono',consolas,'Courier New',monospace\"><span style=\"font-weight: bold\"> Non-trainable params: </span><span style=\"color: #00af00; text-decoration-color: #00af00\">0</span> (0.00 B)\n",
       "</pre>\n"
      ],
      "text/plain": [
       "\u001b[1m Non-trainable params: \u001b[0m\u001b[38;5;34m0\u001b[0m (0.00 B)\n"
      ]
     },
     "metadata": {},
     "output_type": "display_data"
    }
   ],
   "source": [
    "model = Sequential([\n",
    "    # Embedding layer converts word indices to dense vectors\n",
    "    Embedding(input_dim=VOCAB_SIZE, output_dim=EMBEDDING_DIM, input_length=MAX_LEN),\n",
    "    \n",
    "    # Flatten the 2D output to 1D for dense layers\n",
    "    Flatten(),\n",
    "    \n",
    "    # Hidden layer\n",
    "    Dense(64, activation='relu'),\n",
    "    \n",
    "    # Output layer with sigmoid activation for binary classification\n",
    "    Dense(1, activation='sigmoid')\n",
    "])\n",
    "\n",
    "model.summary()"
   ]
  },
  {
   "cell_type": "markdown",
   "id": "ff987d9d",
   "metadata": {},
   "source": [
    "### Compile and Train the Model"
   ]
  },
  {
   "cell_type": "code",
   "execution_count": 64,
   "id": "f6d4782f",
   "metadata": {},
   "outputs": [
    {
     "name": "stdout",
     "output_type": "stream",
     "text": [
      "Epoch 1/20\n",
      "\u001b[1m1250/1250\u001b[0m \u001b[32m━━━━━━━━━━━━━━━━━━━━\u001b[0m\u001b[37m\u001b[0m \u001b[1m26s\u001b[0m 19ms/step - accuracy: 0.7069 - loss: 0.5539 - val_accuracy: 0.7703 - val_loss: 0.4721\n",
      "Epoch 2/20\n",
      "\u001b[1m1250/1250\u001b[0m \u001b[32m━━━━━━━━━━━━━━━━━━━━\u001b[0m\u001b[37m\u001b[0m \u001b[1m24s\u001b[0m 19ms/step - accuracy: 0.8273 - loss: 0.3864 - val_accuracy: 0.7592 - val_loss: 0.5088\n",
      "Epoch 3/20\n",
      "\u001b[1m1250/1250\u001b[0m \u001b[32m━━━━━━━━━━━━━━━━━━━━\u001b[0m\u001b[37m\u001b[0m \u001b[1m25s\u001b[0m 20ms/step - accuracy: 0.8959 - loss: 0.2522 - val_accuracy: 0.7475 - val_loss: 0.6797\n",
      "Epoch 4/20\n",
      "\u001b[1m1250/1250\u001b[0m \u001b[32m━━━━━━━━━━━━━━━━━━━━\u001b[0m\u001b[37m\u001b[0m \u001b[1m25s\u001b[0m 20ms/step - accuracy: 0.9416 - loss: 0.1500 - val_accuracy: 0.7418 - val_loss: 0.9222\n",
      "Epoch 5/20\n",
      "\u001b[1m1250/1250\u001b[0m \u001b[32m━━━━━━━━━━━━━━━━━━━━\u001b[0m\u001b[37m\u001b[0m \u001b[1m25s\u001b[0m 20ms/step - accuracy: 0.9657 - loss: 0.0915 - val_accuracy: 0.7364 - val_loss: 1.1626\n",
      "Epoch 6/20\n",
      "\u001b[1m1250/1250\u001b[0m \u001b[32m━━━━━━━━━━━━━━━━━━━━\u001b[0m\u001b[37m\u001b[0m \u001b[1m26s\u001b[0m 21ms/step - accuracy: 0.9772 - loss: 0.0612 - val_accuracy: 0.7322 - val_loss: 1.4385\n",
      "Epoch 7/20\n",
      "\u001b[1m1250/1250\u001b[0m \u001b[32m━━━━━━━━━━━━━━━━━━━━\u001b[0m\u001b[37m\u001b[0m \u001b[1m25s\u001b[0m 20ms/step - accuracy: 0.9814 - loss: 0.0497 - val_accuracy: 0.7338 - val_loss: 1.7008\n",
      "Epoch 8/20\n",
      "\u001b[1m1250/1250\u001b[0m \u001b[32m━━━━━━━━━━━━━━━━━━━━\u001b[0m\u001b[37m\u001b[0m \u001b[1m25s\u001b[0m 20ms/step - accuracy: 0.9850 - loss: 0.0410 - val_accuracy: 0.7319 - val_loss: 1.8083\n",
      "Epoch 9/20\n",
      "\u001b[1m1250/1250\u001b[0m \u001b[32m━━━━━━━━━━━━━━━━━━━━\u001b[0m\u001b[37m\u001b[0m \u001b[1m26s\u001b[0m 21ms/step - accuracy: 0.9869 - loss: 0.0363 - val_accuracy: 0.7317 - val_loss: 2.0045\n",
      "Epoch 10/20\n",
      "\u001b[1m1250/1250\u001b[0m \u001b[32m━━━━━━━━━━━━━━━━━━━━\u001b[0m\u001b[37m\u001b[0m \u001b[1m25s\u001b[0m 20ms/step - accuracy: 0.9890 - loss: 0.0294 - val_accuracy: 0.7260 - val_loss: 2.2467\n",
      "Epoch 11/20\n",
      "\u001b[1m1250/1250\u001b[0m \u001b[32m━━━━━━━━━━━━━━━━━━━━\u001b[0m\u001b[37m\u001b[0m \u001b[1m26s\u001b[0m 21ms/step - accuracy: 0.9902 - loss: 0.0254 - val_accuracy: 0.7228 - val_loss: 2.3368\n",
      "Epoch 12/20\n",
      "\u001b[1m1250/1250\u001b[0m \u001b[32m━━━━━━━━━━━━━━━━━━━━\u001b[0m\u001b[37m\u001b[0m \u001b[1m29s\u001b[0m 23ms/step - accuracy: 0.9910 - loss: 0.0234 - val_accuracy: 0.7223 - val_loss: 2.4259\n",
      "Epoch 13/20\n",
      "\u001b[1m1250/1250\u001b[0m \u001b[32m━━━━━━━━━━━━━━━━━━━━\u001b[0m\u001b[37m\u001b[0m \u001b[1m30s\u001b[0m 24ms/step - accuracy: 0.9906 - loss: 0.0247 - val_accuracy: 0.7276 - val_loss: 2.5515\n",
      "Epoch 14/20\n",
      "\u001b[1m1250/1250\u001b[0m \u001b[32m━━━━━━━━━━━━━━━━━━━━\u001b[0m\u001b[37m\u001b[0m \u001b[1m26s\u001b[0m 21ms/step - accuracy: 0.9922 - loss: 0.0200 - val_accuracy: 0.7240 - val_loss: 2.7824\n",
      "Epoch 15/20\n",
      "\u001b[1m1250/1250\u001b[0m \u001b[32m━━━━━━━━━━━━━━━━━━━━\u001b[0m\u001b[37m\u001b[0m \u001b[1m27s\u001b[0m 22ms/step - accuracy: 0.9929 - loss: 0.0182 - val_accuracy: 0.7304 - val_loss: 2.8942\n",
      "Epoch 16/20\n",
      "\u001b[1m1250/1250\u001b[0m \u001b[32m━━━━━━━━━━━━━━━━━━━━\u001b[0m\u001b[37m\u001b[0m \u001b[1m28s\u001b[0m 22ms/step - accuracy: 0.9932 - loss: 0.0179 - val_accuracy: 0.7260 - val_loss: 3.0437\n",
      "Epoch 17/20\n",
      "\u001b[1m1250/1250\u001b[0m \u001b[32m━━━━━━━━━━━━━━━━━━━━\u001b[0m\u001b[37m\u001b[0m \u001b[1m30s\u001b[0m 24ms/step - accuracy: 0.9938 - loss: 0.0163 - val_accuracy: 0.7265 - val_loss: 3.0047\n",
      "Epoch 18/20\n",
      "\u001b[1m1250/1250\u001b[0m \u001b[32m━━━━━━━━━━━━━━━━━━━━\u001b[0m\u001b[37m\u001b[0m \u001b[1m27s\u001b[0m 21ms/step - accuracy: 0.9933 - loss: 0.0162 - val_accuracy: 0.7276 - val_loss: 3.0462\n",
      "Epoch 19/20\n",
      "\u001b[1m1250/1250\u001b[0m \u001b[32m━━━━━━━━━━━━━━━━━━━━\u001b[0m\u001b[37m\u001b[0m \u001b[1m26s\u001b[0m 21ms/step - accuracy: 0.9938 - loss: 0.0160 - val_accuracy: 0.7257 - val_loss: 3.1786\n",
      "Epoch 20/20\n",
      "\u001b[1m1250/1250\u001b[0m \u001b[32m━━━━━━━━━━━━━━━━━━━━\u001b[0m\u001b[37m\u001b[0m \u001b[1m27s\u001b[0m 22ms/step - accuracy: 0.9943 - loss: 0.0145 - val_accuracy: 0.7262 - val_loss: 3.2266\n"
     ]
    }
   ],
   "source": [
    "model.compile(\n",
    "    optimizer='adam',\n",
    "    loss='binary_crossentropy',\n",
    "    metrics=['accuracy']\n",
    ")\n",
    "\n",
    "# Train the model\n",
    "history = model.fit(\n",
    "    X_train, y_train,\n",
    "    epochs=20,\n",
    "    batch_size=64,\n",
    "    validation_data=(X_test, y_test)\n",
    ")"
   ]
  },
  {
   "cell_type": "markdown",
   "id": "a7b6854e",
   "metadata": {},
   "source": [
    "###  Extract and Visualize Word Embeddings"
   ]
  },
  {
   "cell_type": "code",
   "execution_count": 65,
   "id": "1e4344fd",
   "metadata": {},
   "outputs": [
    {
     "data": {
      "image/png": "[encoded data removed]",
      "text/plain": [
       "<Figure size 1500x1000 with 1 Axes>"
      ]
     },
     "metadata": {},
     "output_type": "display_data"
    }
   ],
   "source": [
    "# Getting the embedding layer weights\n",
    "embedding_layer = model.layers[0]\n",
    "embeddings = embedding_layer.get_weights()[0]\n",
    "\n",
    "# Gettting word index mapping\n",
    "word_index = tokenizer.word_index\n",
    "reverse_word_index = {v: k for k, v in word_index.items()}\n",
    "\n",
    "# Selecting some words to visualize (top N most frequent)\n",
    "num_words_to_plot = 200\n",
    "words_to_visualize = [reverse_word_index.get(i, '') for i in range(1, num_words_to_plot+1)]\n",
    "word_indices = [i for i in range(1, num_words_to_plot+1)]\n",
    "\n",
    "# Gettting embeddings for selected words\n",
    "word_vectors = embeddings[word_indices]\n",
    "\n",
    "# Reducing the dimensionalities with t-SNE\n",
    "tsne = TSNE(n_components=2, random_state=42)\n",
    "word_vectors_2d = tsne.fit_transform(word_vectors)\n",
    "\n",
    "# Plot the embeddings\n",
    "plt.figure(figsize=(15, 10))\n",
    "plt.scatter(word_vectors_2d[:, 0], word_vectors_2d[:, 1])\n",
    "\n",
    "# Annotate some interesting words\n",
    "words_to_label = ['good', 'bad', 'happy', 'sad', 'love', 'hate', \n",
    "                 'great', 'terrible', 'awesome', 'awful', 'like', 'dislike']\n",
    "for i, word in enumerate(words_to_visualize):\n",
    "    if word in words_to_label:\n",
    "        plt.annotate(word, xy=(word_vectors_2d[i, 0], word_vectors_2d[i, 1]), \n",
    "                    xytext=(5, 2), textcoords='offset points', ha='right', va='bottom')\n",
    "\n",
    "plt.title('Word Embeddings Visualization with t-SNE')\n",
    "plt.show()"
   ]
  },
  {
   "cell_type": "markdown",
   "id": "0edabb01",
   "metadata": {},
   "source": [
    "### Evaluation and Results"
   ]
  },
  {
   "cell_type": "code",
   "execution_count": 66,
   "id": "1de94508",
   "metadata": {},
   "outputs": [
    {
     "name": "stdout",
     "output_type": "stream",
     "text": [
      "\u001b[1m625/625\u001b[0m \u001b[32m━━━━━━━━━━━━━━━━━━━━\u001b[0m\u001b[37m\u001b[0m \u001b[1m3s\u001b[0m 4ms/step - accuracy: 0.7262 - loss: 3.1952\n",
      "\n",
      "Test Accuracy: 0.7262\n",
      "\u001b[1m1/1\u001b[0m \u001b[32m━━━━━━━━━━━━━━━━━━━━\u001b[0m\u001b[37m\u001b[0m \u001b[1m0s\u001b[0m 169ms/step\n",
      "\n",
      "Tweet: whenever it rains it's so hard to get motivated ...\n",
      "True Sentiment: Negative\n",
      "Predicted Sentiment: Positive (confidence: 0.9696)\n",
      "\n",
      "Tweet: @therealedjones lol shut uuuuuup ed NO its how I feel ...\n",
      "True Sentiment: Positive\n",
      "Predicted Sentiment: Negative (confidence: 0.0000)\n",
      "\n",
      "Tweet: @mileycyrus hey miley  how are you  the climb is a really beautiful song well done on the vid its be...\n",
      "True Sentiment: Positive\n",
      "Predicted Sentiment: Positive (confidence: 1.0000)\n"
     ]
    }
   ],
   "source": [
    "# Evaluate on test set\n",
    "loss, accuracy = model.evaluate(X_test, y_test)\n",
    "print(f\"\\nTest Accuracy: {accuracy:.4f}\")\n",
    "\n",
    "# Show some sample predictions\n",
    "sample_texts = test_df['text'].head(3).tolist()\n",
    "sample_labels = test_df['target'].head(3).tolist()\n",
    "\n",
    "# Preprocess the sample texts\n",
    "sample_sequences = tokenizer.texts_to_sequences(sample_texts)\n",
    "sample_padded = pad_sequences(sample_sequences, maxlen=MAX_LEN, padding='post', truncating='post')\n",
    "\n",
    "# Predict\n",
    "predictions = model.predict(sample_padded).flatten()\n",
    "predicted_labels = [1 if p > 0.5 else 0 for p in predictions]\n",
    "\n",
    "# Display results\n",
    "for text, true_label, pred_label, prob in zip(sample_texts, sample_labels, predicted_labels, predictions):\n",
    "    print(f\"\\nTweet: {text[:100]}...\")\n",
    "    print(f\"True Sentiment: {'Positive' if true_label else 'Negative'}\")\n",
    "    print(f\"Predicted Sentiment: {'Positive' if pred_label else 'Negative'} (confidence: {prob:.4f})\")"
   ]
  }
 ],
 "metadata": {
  "kernelspec": {
   "display_name": "Python 3",
   "language": "python",
   "name": "python3"
  },
  "language_info": {
   "codemirror_mode": {
    "name": "ipython",
    "version": 3
   },
   "file_extension": ".py",
   "mimetype": "text/x-python",
   "name": "python",
   "nbconvert_exporter": "python",
   "pygments_lexer": "ipython3",
   "version": "3.12.5"
  }
 },
 "nbformat": 4,
 "nbformat_minor": 5
}
