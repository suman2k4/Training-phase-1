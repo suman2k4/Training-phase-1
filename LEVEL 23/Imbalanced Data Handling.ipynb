{
 "cells": [
  {
   "cell_type": "code",
   "execution_count": 8,
   "id": "a6e386de",
   "metadata": {},
   "outputs": [],
   "source": [
    "import pandas as pd\n",
    "import numpy as np\n",
    "from sklearn.model_selection import train_test_split\n",
    "from sklearn.preprocessing import StandardScaler, OneHotEncoder\n",
    "from sklearn.compose import ColumnTransformer\n",
    "from sklearn.metrics import classification_report\n",
    "from imblearn.under_sampling import RandomUnderSampler\n",
    "from imblearn.over_sampling import SMOTE\n",
    "from tensorflow.keras.models import Sequential\n",
    "from tensorflow.keras.layers import Dense"
   ]
  },
  {
   "cell_type": "code",
   "execution_count": null,
   "id": "d23c3cc7",
   "metadata": {},
   "outputs": [],
   "source": [
    "\n",
    "df = pd.read_csv('credit_card_fraud_dataset.csvdd')\n"
   ]
  },
  {
   "cell_type": "code",
   "execution_count": 10,
   "id": "05c76aa1",
   "metadata": {},
   "outputs": [],
   "source": [
    "\n",
    "df = df.drop('TransactionID', axis=1) \n",
    "df['TransactionDate'] = pd.to_datetime(df['TransactionDate'])\n",
    "df['Hour'] = df['TransactionDate'].dt.hour\n",
    "df['DayOfWeek'] = df['TransactionDate'].dt.dayofweek\n",
    "df = df.drop('TransactionDate', axis=1)"
   ]
  },
  {
   "cell_type": "code",
   "execution_count": 11,
   "id": "3604833d",
   "metadata": {},
   "outputs": [],
   "source": [
    "\n",
    "cat_features = ['MerchantID', 'TransactionType', 'Location']\n",
    "num_features = ['Amount', 'Hour', 'DayOfWeek']"
   ]
  },
  {
   "cell_type": "code",
   "execution_count": 12,
   "id": "022305b1",
   "metadata": {},
   "outputs": [],
   "source": [
    "\n",
    "preprocessor = ColumnTransformer([\n",
    "    ('num', StandardScaler(), num_features),\n",
    "    ('cat', OneHotEncoder(handle_unknown='ignore'), cat_features)\n",
    "])"
   ]
  },
  {
   "cell_type": "code",
   "execution_count": 13,
   "id": "79a66b94",
   "metadata": {},
   "outputs": [],
   "source": [
    "\n",
    "X = df.drop('IsFraud', axis=1)\n",
    "y = df['IsFraud'].values\n",
    "X_train, X_test, y_train, y_test = train_test_split(X, y, test_size=0.2, random_state=42, stratify=y)"
   ]
  },
  {
   "cell_type": "code",
   "execution_count": 14,
   "id": "936580ae",
   "metadata": {},
   "outputs": [],
   "source": [
    "\n",
    "X_train = preprocessor.fit_transform(X_train)\n",
    "X_test = preprocessor.transform(X_test)"
   ]
  },
  {
   "cell_type": "code",
   "execution_count": 15,
   "id": "57fdd240",
   "metadata": {},
   "outputs": [
    {
     "name": "stderr",
     "output_type": "stream",
     "text": [
      "C:\\Users\\HP\\AppData\\Roaming\\Python\\Python312\\site-packages\\keras\\src\\layers\\core\\dense.py:87: UserWarning: Do not pass an `input_shape`/`input_dim` argument to a layer. When using Sequential models, prefer using an `Input(shape)` object as the first layer in the model instead.\n",
      "  super().__init__(activity_regularizer=activity_regularizer, **kwargs)\n"
     ]
    },
    {
     "data": {
      "text/plain": [
       "<keras.src.callbacks.history.History at 0x28728b6f980>"
      ]
     },
     "execution_count": 15,
     "metadata": {},
     "output_type": "execute_result"
    }
   ],
   "source": [
    "\n",
    "baseline_model = Sequential([\n",
    "    Dense(64, activation='relu', input_shape=(X_train.shape[1],)),\n",
    "    Dense(32, activation='relu'),\n",
    "    Dense(1, activation='sigmoid')\n",
    "])\n",
    "baseline_model.compile(optimizer='adam', loss='binary_crossentropy', metrics=['accuracy'])\n",
    "baseline_model.fit(X_train, y_train, epochs=10, batch_size=32, verbose=0)"
   ]
  },
  {
   "cell_type": "code",
   "execution_count": 16,
   "id": "a9756f67",
   "metadata": {},
   "outputs": [
    {
     "name": "stdout",
     "output_type": "stream",
     "text": [
      "\u001b[1m625/625\u001b[0m \u001b[32m━━━━━━━━━━━━━━━━━━━━\u001b[0m\u001b[37m\u001b[0m \u001b[1m2s\u001b[0m 3ms/step\n"
     ]
    }
   ],
   "source": [
    "\n",
    "y_pred_baseline = (baseline_model.predict(X_test) > 0.5).astype(int)\n",
    "baseline_report = classification_report(y_test, y_pred_baseline, output_dict=True)"
   ]
  },
  {
   "cell_type": "code",
   "execution_count": 17,
   "id": "547dc317",
   "metadata": {},
   "outputs": [],
   "source": [
    "\n",
    "rus = RandomUnderSampler(random_state=42)\n",
    "X_train_rus, y_train_rus = rus.fit_resample(X_train, y_train)"
   ]
  },
  {
   "cell_type": "code",
   "execution_count": 18,
   "id": "9957147f",
   "metadata": {},
   "outputs": [
    {
     "name": "stderr",
     "output_type": "stream",
     "text": [
      "C:\\Users\\HP\\AppData\\Roaming\\Python\\Python312\\site-packages\\keras\\src\\layers\\core\\dense.py:87: UserWarning: Do not pass an `input_shape`/`input_dim` argument to a layer. When using Sequential models, prefer using an `Input(shape)` object as the first layer in the model instead.\n",
      "  super().__init__(activity_regularizer=activity_regularizer, **kwargs)\n"
     ]
    },
    {
     "data": {
      "text/plain": [
       "<keras.src.callbacks.history.History at 0x28734f3fc50>"
      ]
     },
     "execution_count": 18,
     "metadata": {},
     "output_type": "execute_result"
    }
   ],
   "source": [
    "\n",
    "rus_model = Sequential([\n",
    "    Dense(64, activation='relu', input_shape=(X_train.shape[1],)),\n",
    "    Dense(32, activation='relu'),\n",
    "    Dense(1, activation='sigmoid')\n",
    "])\n",
    "rus_model.compile(optimizer='adam', loss='binary_crossentropy', metrics=['accuracy'])\n",
    "rus_model.fit(X_train_rus, y_train_rus, epochs=10, batch_size=32, verbose=0)"
   ]
  },
  {
   "cell_type": "code",
   "execution_count": 19,
   "id": "9ee6353a",
   "metadata": {},
   "outputs": [
    {
     "name": "stdout",
     "output_type": "stream",
     "text": [
      "\u001b[1m625/625\u001b[0m \u001b[32m━━━━━━━━━━━━━━━━━━━━\u001b[0m\u001b[37m\u001b[0m \u001b[1m2s\u001b[0m 3ms/step\n"
     ]
    }
   ],
   "source": [
    "\n",
    "y_pred_rus = (rus_model.predict(X_test) > 0.5).astype(int)\n",
    "rus_report = classification_report(y_test, y_pred_rus, output_dict=True)"
   ]
  },
  {
   "cell_type": "code",
   "execution_count": 20,
   "id": "0834c5b5",
   "metadata": {},
   "outputs": [],
   "source": [
    "\n",
    "smote = SMOTE(random_state=42)\n",
    "X_train_smote, y_train_smote = smote.fit_resample(X_train, y_train)"
   ]
  },
  {
   "cell_type": "code",
   "execution_count": 21,
   "id": "6009be46",
   "metadata": {},
   "outputs": [
    {
     "name": "stderr",
     "output_type": "stream",
     "text": [
      "C:\\Users\\HP\\AppData\\Roaming\\Python\\Python312\\site-packages\\keras\\src\\layers\\core\\dense.py:87: UserWarning: Do not pass an `input_shape`/`input_dim` argument to a layer. When using Sequential models, prefer using an `Input(shape)` object as the first layer in the model instead.\n",
      "  super().__init__(activity_regularizer=activity_regularizer, **kwargs)\n"
     ]
    },
    {
     "data": {
      "text/plain": [
       "<keras.src.callbacks.history.History at 0x28735d45af0>"
      ]
     },
     "execution_count": 21,
     "metadata": {},
     "output_type": "execute_result"
    }
   ],
   "source": [
    "\n",
    "smote_model = Sequential([\n",
    "    Dense(64, activation='relu', input_shape=(X_train.shape[1],)),\n",
    "    Dense(32, activation='relu'),\n",
    "    Dense(1, activation='sigmoid')\n",
    "])\n",
    "smote_model.compile(optimizer='adam', loss='binary_crossentropy', metrics=['accuracy'])\n",
    "smote_model.fit(X_train_smote, y_train_smote, epochs=10, batch_size=32, verbose=0)"
   ]
  },
  {
   "cell_type": "code",
   "execution_count": 22,
   "id": "53ecef03",
   "metadata": {},
   "outputs": [
    {
     "name": "stdout",
     "output_type": "stream",
     "text": [
      "\u001b[1m625/625\u001b[0m \u001b[32m━━━━━━━━━━━━━━━━━━━━\u001b[0m\u001b[37m\u001b[0m \u001b[1m2s\u001b[0m 2ms/step\n"
     ]
    }
   ],
   "source": [
    "\n",
    "y_pred_smote = (smote_model.predict(X_test) > 0.5).astype(int)\n",
    "smote_report = classification_report(y_test, y_pred_smote, output_dict=True)"
   ]
  },
  {
   "cell_type": "code",
   "execution_count": 23,
   "id": "06d55711",
   "metadata": {},
   "outputs": [
    {
     "name": "stdout",
     "output_type": "stream",
     "text": [
      "                   Model  Precision (Fraud)  Recall (Fraud)  F1-Score (Fraud)\n",
      "0  Baseline (Imbalanced)              0.018           0.005             0.008\n",
      "1    Undersampling (RUS)              0.010           0.500             0.020\n",
      "2   SMOTE (Oversampling)              0.000           0.000             0.000\n",
      "\n",
      "🔍 **Analysis:**\n",
      "- **Baseline (Imbalanced):** Typically has high precision but very low recall (misses fraud cases).\n",
      "- **Undersampling (RUS):** Improves recall but may lose important majority-class patterns.\n",
      "- **SMOTE (Oversampling):** Best balance—improves recall while maintaining good precision.\n",
      "For fraud detection, **SMOTE is usually preferred** since catching fraud (high recall) is critical.\n"
     ]
    }
   ],
   "source": [
    "\n",
    "results = pd.DataFrame({\n",
    "    'Model': ['Baseline (Imbalanced)', 'Undersampling (RUS)', 'SMOTE (Oversampling)'],\n",
    "    'Precision (Fraud)': [\n",
    "        baseline_report['1']['precision'],\n",
    "        rus_report['1']['precision'],\n",
    "        smote_report['1']['precision']\n",
    "    ],\n",
    "    'Recall (Fraud)': [\n",
    "        baseline_report['1']['recall'],\n",
    "        rus_report['1']['recall'],\n",
    "        smote_report['1']['recall']\n",
    "    ],\n",
    "    'F1-Score (Fraud)': [\n",
    "        baseline_report['1']['f1-score'],\n",
    "        rus_report['1']['f1-score'],\n",
    "        smote_report['1']['f1-score']\n",
    "    ]\n",
    "})\n",
    "\n",
    "print(results.round(3))\n",
    "\n",
    "print(\"\\n🔍 **Analysis:**\")\n",
    "print(\"- **Baseline (Imbalanced):** Typically has high precision but very low recall (misses fraud cases).\")\n",
    "print(\"- **Undersampling (RUS):** Improves recall but may lose important majority-class patterns.\")\n",
    "print(\"- **SMOTE (Oversampling):** Best balance—improves recall while maintaining good precision.\")\n",
    "print(\"For fraud detection, **SMOTE is usually preferred** since catching fraud (high recall) is critical.\")"
   ]
  }
 ],
 "metadata": {
  "kernelspec": {
   "display_name": "Python 3",
   "language": "python",
   "name": "python3"
  },
  "language_info": {
   "codemirror_mode": {
    "name": "ipython",
    "version": 3
   },
   "file_extension": ".py",
   "mimetype": "text/x-python",
   "name": "python",
   "nbconvert_exporter": "python",
   "pygments_lexer": "ipython3",
   "version": "3.12.5"
  }
 },
 "nbformat": 4,
 "nbformat_minor": 5
}
