{
 "cells": [
  {
   "cell_type": "code",
   "execution_count": 1,
   "metadata": {},
   "outputs": [],
   "source": [
    "from scipy import stats"
   ]
  },
  {
   "cell_type": "code",
   "execution_count": 4,
   "metadata": {},
   "outputs": [],
   "source": [
    "height=[160, 170, 180, 175]\n",
    "\n",
    "weight=[60, 70, 75, 65]"
   ]
  },
  {
   "cell_type": "code",
   "execution_count": 5,
   "metadata": {},
   "outputs": [],
   "source": [
    "pearson_corr,_=stats.pearsonr(height,weight)\n",
    "\n",
    "spearman_corr,_=stats.spearmanr(height,weight)"
   ]
  },
  {
   "cell_type": "code",
   "execution_count": 6,
   "metadata": {},
   "outputs": [
    {
     "name": "stdout",
     "output_type": "stream",
     "text": [
      "Pearson ≈ 0.83, Spearman ≈ 0.80\n",
      "Both show positive correlation; Pearson higher due to near-linear relationship.\n"
     ]
    }
   ],
   "source": [
    "print(f\"Pearson ≈ {pearson_corr:.2f}, Spearman ≈ {spearman_corr:.2f}\")\n",
    "print(\"Both show positive correlation; Pearson higher due to near-linear relationship.\")"
   ]
  }
 ],
 "metadata": {
  "kernelspec": {
   "display_name": "Python 3",
   "language": "python",
   "name": "python3"
  },
  "language_info": {
   "codemirror_mode": {
    "name": "ipython",
    "version": 3
   },
   "file_extension": ".py",
   "mimetype": "text/x-python",
   "name": "python",
   "nbconvert_exporter": "python",
   "pygments_lexer": "ipython3",
   "version": "3.12.5"
  }
 },
 "nbformat": 4,
 "nbformat_minor": 2
}
