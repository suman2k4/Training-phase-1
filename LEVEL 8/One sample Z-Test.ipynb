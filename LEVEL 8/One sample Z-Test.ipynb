{
 "cells": [
  {
   "cell_type": "code",
   "execution_count": 2,
   "metadata": {},
   "outputs": [],
   "source": [
    "import numpy as np\n",
    "import statsmodels.stats.weightstats as st"
   ]
  },
  {
   "cell_type": "code",
   "execution_count": 3,
   "metadata": {},
   "outputs": [],
   "source": [
    "np.random.seed(42)\n",
    "data=np.random.normal(140,15,20)"
   ]
  },
  {
   "cell_type": "code",
   "execution_count": 5,
   "metadata": {},
   "outputs": [],
   "source": [
    "z_score,p_value=st.ztest(data,value=100)"
   ]
  },
  {
   "cell_type": "code",
   "execution_count": 6,
   "metadata": {},
   "outputs": [],
   "source": [
    "alpha=0.05"
   ]
  },
  {
   "cell_type": "code",
   "execution_count": 7,
   "metadata": {},
   "outputs": [
    {
     "name": "stdout",
     "output_type": "stream",
     "text": [
      "Z ≈ 11.6, p < 0.05\n",
      "Reject H₀; medication affects IQ, likely increasing it (mean = 140 > 100).\n"
     ]
    }
   ],
   "source": [
    "if p_value < alpha:\n",
    "    print(f\"Z ≈ {z_score:.1f}, p < 0.05\")\n",
    "    print(\"Reject H₀; medication affects IQ, likely increasing it (mean = 140 > 100).\")\n",
    "else:\n",
    "    print(f\"Z ≈ {z_score:.1f}, p ≥ 0.05\")\n",
    "    print(\"Fail to reject H₀; no evidence that medication affects IQ.\")"
   ]
  }
 ],
 "metadata": {
  "kernelspec": {
   "display_name": "Python 3",
   "language": "python",
   "name": "python3"
  },
  "language_info": {
   "codemirror_mode": {
    "name": "ipython",
    "version": 3
   },
   "file_extension": ".py",
   "mimetype": "text/x-python",
   "name": "python",
   "nbconvert_exporter": "python",
   "pygments_lexer": "ipython3",
   "version": "3.12.5"
  }
 },
 "nbformat": 4,
 "nbformat_minor": 2
}
